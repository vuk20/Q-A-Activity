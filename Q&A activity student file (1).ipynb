{
 "cells": [
  {
   "cell_type": "markdown",
   "metadata": {},
   "source": [
    "## 1. Complete the following code to find the area of an equilateral triangle. Output should be as displayed"
   ]
  },
  {
   "cell_type": "code",
   "execution_count": 5,
   "metadata": {},
   "outputs": [
    {
     "name": "stdout",
     "output_type": "stream",
     "text": [
      "Enter the side of the equilateral triangle: 7\n",
      "Area of the equilateral triangle 21.217622392718745\n"
     ]
    }
   ],
   "source": [
    "import math\n",
    "side = float(input(\"Enter the side of the equilateral triangle: \"))\n",
    "area = ((math.sqrt(3))/4)*pow(side,2)\n",
    "print('Area of the equilateral triangle',area)"
   ]
  },
  {
   "cell_type": "markdown",
   "metadata": {},
   "source": [
    "## 2. Write a program to count the number of each characters in a string"
   ]
  },
  {
   "cell_type": "code",
   "execution_count": 6,
   "metadata": {},
   "outputs": [
    {
     "name": "stdout",
     "output_type": "stream",
     "text": [
      "Enter the words:\n",
      "Excellent work\n",
      "13\n"
     ]
    }
   ],
   "source": [
    "count=0\n",
    "chara=input(\"Enter the words:\\n\")\n",
    "for i in chara:\n",
    "    if i==\" \":\n",
    "     continue\n",
    "    count+=1\n",
    "print(count) "
   ]
  },
  {
   "cell_type": "markdown",
   "metadata": {},
   "source": [
    "## 3. Write a program to find the area and perimeter of a rectangle using functions"
   ]
  },
  {
   "cell_type": "code",
   "execution_count": 7,
   "metadata": {},
   "outputs": [
    {
     "name": "stdout",
     "output_type": "stream",
     "text": [
      "Enter length:7\n",
      "Enter bredth:4\n",
      "perimeter of rectangle 22\n",
      "Area of rectangle 56\n"
     ]
    }
   ],
   "source": [
    "def perimeter(l,b):\n",
    "    return(2*(l+b))\n",
    "    \n",
    "def Area(l,b):\n",
    "    return(2*(l*b))\n",
    "    \n",
    "length=int(input(\"Enter length:\"))\n",
    "bredth=int(input(\"Enter bredth:\"))\n",
    "\n",
    "print(\"perimeter of rectangle\",perimeter(length,bredth))\n",
    "print(\"Area of rectangle\",Area(length,bredth))"
   ]
  },
  {
   "cell_type": "markdown",
   "metadata": {},
   "source": [
    "## 4. Write a program to print the fibonacci series till a specified number"
   ]
  },
  {
   "cell_type": "code",
   "execution_count": 10,
   "metadata": {
    "scrolled": true
   },
   "outputs": [
    {
     "name": "stdout",
     "output_type": "stream",
     "text": [
      "Enter the fibanacci number:13\n",
      "0\n",
      "1\n",
      "1\n",
      "2\n",
      "3\n",
      "5\n",
      "8\n",
      "13\n",
      "21\n",
      "34\n",
      "55\n",
      "89\n",
      "144\n",
      "233\n"
     ]
    }
   ],
   "source": [
    "num=int(input(\"Enter the fibanacci number:\"))\n",
    "if num>0:\n",
    "  a=0\n",
    "  b=1\n",
    "  print(a)\n",
    "  print(b)\n",
    "  for i in range(0,num-1):\n",
    "    sum=a+b\n",
    "    a=b\n",
    "    b=sum\n",
    "    print(sum)"
   ]
  },
  {
   "cell_type": "markdown",
   "metadata": {},
   "source": [
    "## 5. Complete the following code to find the minimum of 3 number using conditional statements. Output should be as displayed"
   ]
  },
  {
   "cell_type": "code",
   "execution_count": 12,
   "metadata": {},
   "outputs": [
    {
     "name": "stdout",
     "output_type": "stream",
     "text": [
      "Enter three numbers followed by  : 1 2 3\n",
      "First number : 1\n",
      "Second number : 2\n",
      "Third number : 3\n",
      "1  is smallest\n"
     ]
    }
   ],
   "source": [
    "a,b,c = input(\"Enter three numbers followed by  : \").split()\n",
    "\n",
    "print(\"First number :\",a)\n",
    "print(\"Second number :\",b)\n",
    "print(\"Third number :\",c)\n",
    "\n",
    "if a==b==c:\n",
    "    print(\"Entered numbers are equal!!!\")\n",
    "elif a<b and a<c:\n",
    "        print(a,\" is smallest\")\n",
    "elif b<a and b<c:\n",
    "        print(b,\" is smallest\")\n",
    "else:\n",
    "    print(c,\" is smallest\")"
   ]
  },
  {
   "cell_type": "markdown",
   "metadata": {},
   "source": [
    "## 6. Write a program to print star pyramind. The number of rows should be taken as input from the user"
   ]
  },
  {
   "cell_type": "code",
   "execution_count": 13,
   "metadata": {},
   "outputs": [
    {
     "name": "stdout",
     "output_type": "stream",
     "text": [
      "Enter the number9\n",
      "        * \n",
      "       * * \n",
      "      * * * \n",
      "     * * * * \n",
      "    * * * * * \n",
      "   * * * * * * \n",
      "  * * * * * * * \n",
      " * * * * * * * * \n",
      "* * * * * * * * * \n"
     ]
    }
   ],
   "source": [
    "n=int(input(\"Enter the number\"))\n",
    "k=n-1\n",
    "\n",
    "for i in range(0,n):\n",
    "    for j in range(0,k):\n",
    "        print(end=\" \")\n",
    "    k=k-1\n",
    "    for j in range(0,i+1):\n",
    "        print(\"*\",end=\" \")\n",
    "    print(\"\\r\")\n",
    "    "
   ]
  },
  {
   "cell_type": "markdown",
   "metadata": {},
   "source": [
    "## 7. Complete the following code to convert hour into seconds. Output should be as displayed"
   ]
  },
  {
   "cell_type": "code",
   "execution_count": 14,
   "metadata": {},
   "outputs": [
    {
     "name": "stdout",
     "output_type": "stream",
     "text": [
      "Enter time in hours:6\n",
      "6  Hour is equal to 21600  Seconds\n"
     ]
    }
   ],
   "source": [
    "def to_seconds(t):\n",
    "    t=(60**2)*time_in_hours\n",
    "    return t\n",
    "time_in_hours = int(input(\"Enter time in hours:\"))\n",
    "print(time_in_hours ,\" Hour is equal to\" ,to_seconds(time_in_hours) ,\" Seconds\")"
   ]
  },
  {
   "cell_type": "markdown",
   "metadata": {},
   "source": [
    "## 8. Write a program to print multiplication table as below"
   ]
  },
  {
   "cell_type": "code",
   "execution_count": 17,
   "metadata": {},
   "outputs": [
    {
     "name": "stdout",
     "output_type": "stream",
     "text": [
      "Enter the multiplication number:11\n",
      "1 * 11 = 11\n",
      "2 * 11 = 22\n",
      "3 * 11 = 33\n",
      "4 * 11 = 44\n",
      "5 * 11 = 55\n",
      "6 * 11 = 66\n",
      "7 * 11 = 77\n",
      "8 * 11 = 88\n",
      "9 * 11 = 99\n",
      "10 * 11 = 110\n"
     ]
    }
   ],
   "source": [
    "num=int(input(\"Enter the multiplication number:\"))\n",
    "for i in range(1,11):\n",
    "    print(i,\"*\",num,\"=\",i*num)\n",
    "    "
   ]
  },
  {
   "cell_type": "markdown",
   "metadata": {},
   "source": [
    "## 9. Write a program to take your 5 favorite food as list and print each as 'I like Biriyani'"
   ]
  },
  {
   "cell_type": "code",
   "execution_count": 24,
   "metadata": {},
   "outputs": [
    {
     "name": "stdout",
     "output_type": "stream",
     "text": [
      "Enter your top 5 favorite food Charcoalchicken Chillypaneer Shawarma Beeffry Gheeroast\n",
      "I like Charcoalchicken\n",
      "I like Chillypaneer\n",
      "I like Shawarma\n",
      "I like Beeffry\n",
      "I like Gheeroast\n"
     ]
    }
   ],
   "source": [
    "fav_food = input(\"Enter your top 5 favorite food \").split()\n",
    "for i in range (0,5): \n",
    "  print(\"I like\" ,fav_food[i])\n"
   ]
  }
 ],
 "metadata": {
  "kernelspec": {
   "display_name": "Python 3 (ipykernel)",
   "language": "python",
   "name": "python3"
  },
  "language_info": {
   "codemirror_mode": {
    "name": "ipython",
    "version": 3
   },
   "file_extension": ".py",
   "mimetype": "text/x-python",
   "name": "python",
   "nbconvert_exporter": "python",
   "pygments_lexer": "ipython3",
   "version": "3.9.7"
  }
 },
 "nbformat": 4,
 "nbformat_minor": 4
}
